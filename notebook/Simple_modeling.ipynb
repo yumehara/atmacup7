{
 "cells": [
  {
   "cell_type": "code",
   "execution_count": 1,
   "metadata": {},
   "outputs": [],
   "source": [
    "import os\n",
    "import pandas as pd\n",
    "import matplotlib.pyplot as plt\n",
    "import seaborn as sns\n",
    "import numpy as np"
   ]
  },
  {
   "cell_type": "code",
   "execution_count": 2,
   "metadata": {},
   "outputs": [],
   "source": [
    "INPUT_DIR = '../input/'\n",
    "OUTPUT_DIR = '../output/'"
   ]
  },
  {
   "cell_type": "code",
   "execution_count": 3,
   "metadata": {},
   "outputs": [],
   "source": [
    "def read_feather(filename):\n",
    "    df = pd.read_feather(os.path.join(INPUT_DIR, filename))\n",
    "    print(filename, df.shape)\n",
    "    return df"
   ]
  },
  {
   "cell_type": "code",
   "execution_count": 4,
   "metadata": {},
   "outputs": [
    {
     "name": "stdout",
     "output_type": "stream",
     "text": [
      "train.f (1997595, 35)\n",
      "test.f (390095, 30)\n"
     ]
    }
   ],
   "source": [
    "train_df = read_feather('train.f')\n",
    "test_df = read_feather('test.f')"
   ]
  },
  {
   "cell_type": "markdown",
   "metadata": {},
   "source": [
    "#### 連続変数の特徴量"
   ]
  },
  {
   "cell_type": "code",
   "execution_count": 5,
   "metadata": {},
   "outputs": [],
   "source": [
    "def create_continuous_features(input_df):\n",
    "    use_columns = [\n",
    "        # 連続変数\n",
    "        'max_login_interval', \n",
    "        'frequency', \n",
    "        'login_frequency', \n",
    "        'last_login_interval',\n",
    "        'from_click',\n",
    "    ]\n",
    "    return input_df[use_columns].copy()"
   ]
  },
  {
   "cell_type": "markdown",
   "metadata": {},
   "source": [
    "#### Category系の特徴量"
   ]
  },
  {
   "cell_type": "code",
   "execution_count": 6,
   "metadata": {},
   "outputs": [],
   "source": [
    "def create_category_features(input_df):\n",
    "    use_columns = [\n",
    "        # category 系の id. label-encoding として使う\n",
    "        'adnw_id',\n",
    "        'adspot_id',\n",
    "        'adspot_video_format_id',\n",
    "        'game_feed_asset_type_id'\n",
    "    ]\n",
    "    return input_df[use_columns].copy()"
   ]
  },
  {
   "cell_type": "code",
   "execution_count": 7,
   "metadata": {},
   "outputs": [],
   "source": [
    "# # https://github.com/nyk510/vivid/blob/master/vivid/utils.py\n",
    "# from contextlib import contextmanager\n",
    "# from time import time\n",
    "\n",
    "# @contextmanager\n",
    "# def timer(logger=None, format_str='{:.3f}[s]', prefix=None, suffix=None):\n",
    "#     if prefix: format_str = str(prefix) + format_str\n",
    "#     if suffix: format_str = format_str + str(suffix)\n",
    "#     start = time()\n",
    "#     yield\n",
    "#     d = time() - start\n",
    "#     out_str = format_str.format(d)\n",
    "#     if logger:\n",
    "#         logger.info(out_str)\n",
    "#     else:\n",
    "#         print(out_str)"
   ]
  },
  {
   "cell_type": "code",
   "execution_count": 8,
   "metadata": {},
   "outputs": [],
   "source": [
    "# from tqdm import tqdm\n",
    "\n",
    "def to_feature(input_df):\n",
    "    processors = [\n",
    "        create_continuous_features,\n",
    "        create_category_features\n",
    "    ]\n",
    "\n",
    "    out_df = pd.DataFrame()\n",
    "\n",
    "#     for func in tqdm(processors, total=len(processors)):\n",
    "#         with timer(prefix='create ' + func.__name__ + ' '):\n",
    "\n",
    "    for func in processors:\n",
    "        _df = func(input_df)\n",
    "        assert len(_df) == len(input_df), func.__name__\n",
    "        out_df = pd.concat([out_df, _df], axis=1)\n",
    "\n",
    "    return out_df"
   ]
  },
  {
   "cell_type": "code",
   "execution_count": 9,
   "metadata": {},
   "outputs": [],
   "source": [
    "train_feat_df = to_feature(train_df)\n",
    "test_feat_df = to_feature(test_df)"
   ]
  },
  {
   "cell_type": "code",
   "execution_count": 10,
   "metadata": {},
   "outputs": [],
   "source": [
    "assert len(train_feat_df) == len(train_df)\n",
    "assert len(test_feat_df) == len(test_df)"
   ]
  },
  {
   "cell_type": "markdown",
   "metadata": {},
   "source": [
    "#### LightGBM による学習"
   ]
  },
  {
   "cell_type": "code",
   "execution_count": 11,
   "metadata": {},
   "outputs": [],
   "source": [
    "from sklearn.metrics import average_precision_score\n",
    "import lightgbm as lgbm\n",
    "\n",
    "def pr_auc(y_pred, y_true):\n",
    "    \"\"\"lightGBM の round ごとに PR-AUC を計算する用\"\"\"\n",
    "    score = average_precision_score(y_true.get_label(), y_pred)\n",
    "    return \"pr_auc\", score, True"
   ]
  },
  {
   "cell_type": "code",
   "execution_count": 12,
   "metadata": {},
   "outputs": [],
   "source": [
    "lgbm_param = {\n",
    "    'objective' : 'binary',\n",
    "    'boosting_type': 'gbdt',\n",
    "    'seed' : 0,\n",
    "    'learning_rate':  0.1,\n",
    "    'max_depth': 6,\n",
    "}"
   ]
  },
  {
   "cell_type": "code",
   "execution_count": 18,
   "metadata": {},
   "outputs": [],
   "source": [
    "def train_lgbm(X, y, cv, params: dict, verbose=100):\n",
    "\n",
    "    models = []\n",
    "    # training data の target と同じだけのゼロ配列を用意\n",
    "    # float にしないと悲しい事件が起こるのでそこだけ注意\n",
    "    oof_pred = np.zeros_like(y, dtype=np.float)\n",
    "\n",
    "    for i, (idx_train, idx_valid) in enumerate(cv): \n",
    "        # この部分が交差検証のところです。データセットを cv instance によって分割します\n",
    "        # training data を trian/valid に分割\n",
    "        x_train, y_train = X.iloc[idx_train], y.iloc[idx_train]\n",
    "        x_valid, y_valid = X.iloc[idx_valid], y.iloc[idx_valid]\n",
    "        \n",
    "        lgbm_train = lgbm.Dataset(x_train, y_train)\n",
    "        lgbm_eval = lgbm.Dataset(x_valid, y_valid, reference=lgbm_train)\n",
    "        \n",
    "        lgbm_model = lgbm.train(params, \n",
    "                                                    lgbm_train, \n",
    "                                                    valid_sets=lgbm_eval,\n",
    "                                                    num_boost_round=1000,\n",
    "                                                    early_stopping_rounds=verbose,\n",
    "                                                    feval=pr_auc,\n",
    "                                                    verbose_eval=verbose)\n",
    "        y_pred = lgbm_model.predict(x_valid, num_iteration=lgbm_model.best_iteration)\n",
    "        \n",
    "        oof_pred[idx_valid] = y_pred\n",
    "        models.append(lgbm_model)\n",
    "\n",
    "        print(f'Fold {i} PR-AUC: {average_precision_score(y_valid, y_pred):.4f}')\n",
    "\n",
    "    score = average_precision_score(y, oof_pred)\n",
    "    print('FINISHED \\ whole score: {:.4f}'.format(score))\n",
    "    return oof_pred, models, score"
   ]
  },
  {
   "cell_type": "code",
   "execution_count": 19,
   "metadata": {},
   "outputs": [],
   "source": [
    "from sklearn.model_selection import StratifiedKFold\n",
    "\n",
    "fold = StratifiedKFold(n_splits=5, shuffle=True, random_state=71)\n",
    "y = train_df['target']\n",
    "cv = list(fold.split(train_feat_df, y)) # もともとが generator なため明示的に list に変換する"
   ]
  },
  {
   "cell_type": "code",
   "execution_count": 20,
   "metadata": {
    "scrolled": false
   },
   "outputs": [
    {
     "name": "stdout",
     "output_type": "stream",
     "text": [
      "Training until validation scores don't improve for 100 rounds\n",
      "[100]\tvalid_0's binary_logloss: 0.135712\tvalid_0's pr_auc: 0.0799047\n",
      "[200]\tvalid_0's binary_logloss: 0.135411\tvalid_0's pr_auc: 0.0812736\n",
      "[300]\tvalid_0's binary_logloss: 0.135266\tvalid_0's pr_auc: 0.0818274\n",
      "[400]\tvalid_0's binary_logloss: 0.135211\tvalid_0's pr_auc: 0.0819085\n",
      "[500]\tvalid_0's binary_logloss: 0.135187\tvalid_0's pr_auc: 0.0818971\n",
      "Early stopping, best iteration is:\n",
      "[442]\tvalid_0's binary_logloss: 0.135186\tvalid_0's pr_auc: 0.0821181\n",
      "Fold 0 PR-AUC: 0.0821\n",
      "Training until validation scores don't improve for 100 rounds\n",
      "[100]\tvalid_0's binary_logloss: 0.135908\tvalid_0's pr_auc: 0.078695\n",
      "[200]\tvalid_0's binary_logloss: 0.135579\tvalid_0's pr_auc: 0.0805152\n",
      "[300]\tvalid_0's binary_logloss: 0.135458\tvalid_0's pr_auc: 0.081161\n",
      "[400]\tvalid_0's binary_logloss: 0.135438\tvalid_0's pr_auc: 0.0814514\n",
      "Early stopping, best iteration is:\n",
      "[345]\tvalid_0's binary_logloss: 0.135432\tvalid_0's pr_auc: 0.0813332\n",
      "Fold 1 PR-AUC: 0.0813\n",
      "Training until validation scores don't improve for 100 rounds\n",
      "[100]\tvalid_0's binary_logloss: 0.135766\tvalid_0's pr_auc: 0.0801181\n",
      "[200]\tvalid_0's binary_logloss: 0.13551\tvalid_0's pr_auc: 0.0815163\n",
      "[300]\tvalid_0's binary_logloss: 0.135378\tvalid_0's pr_auc: 0.0820501\n",
      "[400]\tvalid_0's binary_logloss: 0.135312\tvalid_0's pr_auc: 0.0823144\n",
      "Early stopping, best iteration is:\n",
      "[368]\tvalid_0's binary_logloss: 0.135311\tvalid_0's pr_auc: 0.0824352\n",
      "Fold 2 PR-AUC: 0.0824\n",
      "Training until validation scores don't improve for 100 rounds\n",
      "[100]\tvalid_0's binary_logloss: 0.135821\tvalid_0's pr_auc: 0.0792768\n",
      "[200]\tvalid_0's binary_logloss: 0.135591\tvalid_0's pr_auc: 0.0802468\n",
      "[300]\tvalid_0's binary_logloss: 0.13549\tvalid_0's pr_auc: 0.0808692\n",
      "[400]\tvalid_0's binary_logloss: 0.135446\tvalid_0's pr_auc: 0.081035\n",
      "Early stopping, best iteration is:\n",
      "[353]\tvalid_0's binary_logloss: 0.135459\tvalid_0's pr_auc: 0.0810776\n",
      "Fold 3 PR-AUC: 0.0811\n",
      "Training until validation scores don't improve for 100 rounds\n",
      "[100]\tvalid_0's binary_logloss: 0.13622\tvalid_0's pr_auc: 0.0783526\n",
      "[200]\tvalid_0's binary_logloss: 0.13594\tvalid_0's pr_auc: 0.0797049\n",
      "[300]\tvalid_0's binary_logloss: 0.135809\tvalid_0's pr_auc: 0.0804824\n",
      "Early stopping, best iteration is:\n",
      "[288]\tvalid_0's binary_logloss: 0.135812\tvalid_0's pr_auc: 0.0805385\n",
      "Fold 4 PR-AUC: 0.0805\n",
      "FINISHED \\ whole score: 0.0814\n",
      "CPU times: user 50min 15s, sys: 2min 6s, total: 52min 22s\n",
      "Wall time: 18min 36s\n"
     ]
    }
   ],
   "source": [
    "%%time\n",
    "oof, models, score = train_lgbm(train_feat_df, y, cv, params=lgbm_param)"
   ]
  },
  {
   "cell_type": "code",
   "execution_count": 21,
   "metadata": {},
   "outputs": [],
   "source": [
    "def feat_imp(model):\n",
    "    fi = model.feature_importance()\n",
    "    fn = model.feature_name()\n",
    "    df_feature_importance = pd.DataFrame({'name':fn, 'imp':fi})\n",
    "    df_feature_importance.sort_values('imp', inplace=True)\n",
    "    return df_feature_importance\n",
    "\n",
    "def feature_importance(models):\n",
    "    fi = pd.DataFrame(columns=['name'])\n",
    "    for i, model in enumerate(models):\n",
    "        fi_tmp = feat_imp(model)\n",
    "        colname = 'imp_{}'.format(i)\n",
    "        fi_tmp.rename(columns={'imp': colname}, inplace=True)\n",
    "        fi = pd.merge(fi, fi_tmp, on=['name'], how='outer')\n",
    "    fi['sum'] = fi.sum(axis=1)\n",
    "    return fi.sort_values(['sum'], ascending=False)"
   ]
  },
  {
   "cell_type": "code",
   "execution_count": 22,
   "metadata": {},
   "outputs": [
    {
     "data": {
      "text/html": [
       "<div>\n",
       "<style scoped>\n",
       "    .dataframe tbody tr th:only-of-type {\n",
       "        vertical-align: middle;\n",
       "    }\n",
       "\n",
       "    .dataframe tbody tr th {\n",
       "        vertical-align: top;\n",
       "    }\n",
       "\n",
       "    .dataframe thead th {\n",
       "        text-align: right;\n",
       "    }\n",
       "</style>\n",
       "<table border=\"1\" class=\"dataframe\">\n",
       "  <thead>\n",
       "    <tr style=\"text-align: right;\">\n",
       "      <th></th>\n",
       "      <th>name</th>\n",
       "      <th>imp_0</th>\n",
       "      <th>imp_1</th>\n",
       "      <th>imp_2</th>\n",
       "      <th>imp_3</th>\n",
       "      <th>imp_4</th>\n",
       "      <th>sum</th>\n",
       "    </tr>\n",
       "  </thead>\n",
       "  <tbody>\n",
       "    <tr>\n",
       "      <th>7</th>\n",
       "      <td>max_login_interval</td>\n",
       "      <td>3710</td>\n",
       "      <td>2747</td>\n",
       "      <td>2999</td>\n",
       "      <td>2897</td>\n",
       "      <td>2404</td>\n",
       "      <td>14757</td>\n",
       "    </tr>\n",
       "    <tr>\n",
       "      <th>8</th>\n",
       "      <td>last_login_interval</td>\n",
       "      <td>3719</td>\n",
       "      <td>2841</td>\n",
       "      <td>2995</td>\n",
       "      <td>2743</td>\n",
       "      <td>2180</td>\n",
       "      <td>14478</td>\n",
       "    </tr>\n",
       "    <tr>\n",
       "      <th>6</th>\n",
       "      <td>adspot_id</td>\n",
       "      <td>1438</td>\n",
       "      <td>1116</td>\n",
       "      <td>1229</td>\n",
       "      <td>1150</td>\n",
       "      <td>902</td>\n",
       "      <td>5835</td>\n",
       "    </tr>\n",
       "    <tr>\n",
       "      <th>5</th>\n",
       "      <td>login_frequency</td>\n",
       "      <td>1179</td>\n",
       "      <td>973</td>\n",
       "      <td>1032</td>\n",
       "      <td>1050</td>\n",
       "      <td>791</td>\n",
       "      <td>5025</td>\n",
       "    </tr>\n",
       "    <tr>\n",
       "      <th>4</th>\n",
       "      <td>frequency</td>\n",
       "      <td>1064</td>\n",
       "      <td>800</td>\n",
       "      <td>885</td>\n",
       "      <td>751</td>\n",
       "      <td>647</td>\n",
       "      <td>4147</td>\n",
       "    </tr>\n",
       "    <tr>\n",
       "      <th>3</th>\n",
       "      <td>adnw_id</td>\n",
       "      <td>845</td>\n",
       "      <td>687</td>\n",
       "      <td>671</td>\n",
       "      <td>755</td>\n",
       "      <td>587</td>\n",
       "      <td>3545</td>\n",
       "    </tr>\n",
       "    <tr>\n",
       "      <th>2</th>\n",
       "      <td>adspot_video_format_id</td>\n",
       "      <td>562</td>\n",
       "      <td>491</td>\n",
       "      <td>498</td>\n",
       "      <td>547</td>\n",
       "      <td>420</td>\n",
       "      <td>2518</td>\n",
       "    </tr>\n",
       "    <tr>\n",
       "      <th>1</th>\n",
       "      <td>game_feed_asset_type_id</td>\n",
       "      <td>455</td>\n",
       "      <td>432</td>\n",
       "      <td>394</td>\n",
       "      <td>420</td>\n",
       "      <td>345</td>\n",
       "      <td>2046</td>\n",
       "    </tr>\n",
       "    <tr>\n",
       "      <th>0</th>\n",
       "      <td>from_click</td>\n",
       "      <td>230</td>\n",
       "      <td>208</td>\n",
       "      <td>201</td>\n",
       "      <td>230</td>\n",
       "      <td>195</td>\n",
       "      <td>1064</td>\n",
       "    </tr>\n",
       "  </tbody>\n",
       "</table>\n",
       "</div>"
      ],
      "text/plain": [
       "                      name  imp_0  imp_1  imp_2  imp_3  imp_4    sum\n",
       "7       max_login_interval   3710   2747   2999   2897   2404  14757\n",
       "8      last_login_interval   3719   2841   2995   2743   2180  14478\n",
       "6                adspot_id   1438   1116   1229   1150    902   5835\n",
       "5          login_frequency   1179    973   1032   1050    791   5025\n",
       "4                frequency   1064    800    885    751    647   4147\n",
       "3                  adnw_id    845    687    671    755    587   3545\n",
       "2   adspot_video_format_id    562    491    498    547    420   2518\n",
       "1  game_feed_asset_type_id    455    432    394    420    345   2046\n",
       "0               from_click    230    208    201    230    195   1064"
      ]
     },
     "execution_count": 22,
     "metadata": {},
     "output_type": "execute_result"
    }
   ],
   "source": [
    "feature_importance(models)"
   ]
  },
  {
   "cell_type": "code",
   "execution_count": 23,
   "metadata": {},
   "outputs": [
    {
     "name": "stdout",
     "output_type": "stream",
     "text": [
      "best_iteration 442\n",
      "best_iteration 345\n",
      "best_iteration 368\n",
      "best_iteration 353\n",
      "best_iteration 288\n",
      "CPU times: user 1min 16s, sys: 479 ms, total: 1min 16s\n",
      "Wall time: 22.1 s\n"
     ]
    }
   ],
   "source": [
    "%%time\n",
    "pred_list = []\n",
    "for model in models:\n",
    "    print('best_iteration', model.best_iteration)\n",
    "    pred = model.predict(test_feat_df, num_iteration = model.best_iteration)\n",
    "    pred_list.append(pred)\n",
    "    \n",
    "pred = np.mean(pred_list, axis=0)"
   ]
  },
  {
   "cell_type": "code",
   "execution_count": 24,
   "metadata": {},
   "outputs": [],
   "source": [
    "assert len(pred) == len(test_df)"
   ]
  },
  {
   "cell_type": "code",
   "execution_count": 25,
   "metadata": {},
   "outputs": [],
   "source": [
    "sub_df = pd.DataFrame({ 'target': pred })\n",
    "sub_df.to_csv(os.path.join(OUTPUT_DIR, 'simple_submission.csv'), index=False)"
   ]
  },
  {
   "cell_type": "code",
   "execution_count": null,
   "metadata": {},
   "outputs": [],
   "source": [
    "print('score', score)"
   ]
  }
 ],
 "metadata": {
  "kernelspec": {
   "display_name": "Python 3",
   "language": "python",
   "name": "python3"
  },
  "language_info": {
   "codemirror_mode": {
    "name": "ipython",
    "version": 3
   },
   "file_extension": ".py",
   "mimetype": "text/x-python",
   "name": "python",
   "nbconvert_exporter": "python",
   "pygments_lexer": "ipython3",
   "version": "3.7.6"
  }
 },
 "nbformat": 4,
 "nbformat_minor": 4
}
